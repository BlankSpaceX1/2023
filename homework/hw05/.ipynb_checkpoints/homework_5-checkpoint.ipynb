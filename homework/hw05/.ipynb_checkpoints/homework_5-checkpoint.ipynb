{
 "cells": [
  {
   "cell_type": "markdown",
   "metadata": {},
   "source": [
    "# Problem 1 (15 points)\n",
    "\n",
    "## Part (a)\n",
    "\n",
    "For the function define below, calculate the exact number of atomic operations that are needed as a function of n (where n is the length of input list L). Please give explainations for every term.\n"
   ]
  },
  {
   "cell_type": "code",
   "execution_count": 1,
   "metadata": {},
   "outputs": [],
   "source": [
    "def f(L):\n",
    "    newlist = [] #Creates both a list and assigns a variable. Cost: 1\n",
    "    for i in L: #Looping through the list will make you loop through n amount of elements. Cost: n\n",
    "        if i % 2 == 0: #condition check. Cost: n \n",
    "            newlist.append(i) #When appending to a list, you append to the back of it, so you don't have to iterate, cost:1\n",
    "    return newlist #returning a variable. Cost: 1\n",
    "#Total Cost: 2n + 3"
   ]
  },
  {
   "cell_type": "markdown",
   "metadata": {},
   "source": [
    "**Hint**:\n",
    "\n",
    "1. Creating a empty list costs 1 atomic operation.\n",
    "2. Focus on the worst case scenario.\n",
    "\n",
    "## Part (b)\n",
    "\n",
    "What is the running time of the function in (a) using the Big-O notation?"
   ]
  },
  {
   "cell_type": "markdown",
   "metadata": {},
   "source": [
    "**Answer:** The running time of the function in (a) using Big-O notation is O(n), as the worst case scenario for this algorithm is linear."
   ]
  },
  {
   "cell_type": "markdown",
   "metadata": {},
   "source": [
    "# Problem 2 (25 points)\n",
    "\n",
    "## Part (a)\n",
    "\n",
    "To check if there is any duplicates in a list, we have covered 3 different solutions. Can you come up with a solution that is more efficient than them?\n",
    "\n",
    "**Hint**: sorting a list with `L.sort` takes $n\\log_{2}n$ time."
   ]
  },
  {
   "cell_type": "code",
   "execution_count": 2,
   "metadata": {},
   "outputs": [],
   "source": [
    "def duplicate_search(arr):\n",
    "    storage_set = set()\n",
    "    for i in range(len(arr)):\n",
    "        if arr[i] in storage_set:\n",
    "            return True\n",
    "        else:\n",
    "            storage_set.add(arr[i])\n",
    "    return False"
   ]
  },
  {
   "cell_type": "markdown",
   "metadata": {},
   "source": [
    "## Part (b)\n",
    "\n",
    "For `n = [800, 1600, 3200, 6400, 12800]`, use the timetrials function we defined in the notebook, calculate the running time for **duplicates2** and your function to verify that your function is indeed more efficient."
   ]
  },
  {
   "cell_type": "code",
   "execution_count": 4,
   "metadata": {},
   "outputs": [
    {
     "name": "stdout",
     "output_type": "stream",
     "text": [
      "average =  0.0231424 for n = 800\n",
      "average =  0.0854755 for n = 1600\n",
      "average =  0.2726833 for n = 3200\n",
      "average =  1.0659558 for n = 6400\n",
      "average =  4.2994805 for n = 12800\n",
      "\n",
      "My Duplicate_search Running Time:\n",
      "average =  0.0000759 for n = 800\n",
      "average =  0.0001517 for n = 1600\n",
      "average =  0.0003443 for n = 3200\n",
      "average =  0.0006547 for n = 6400\n",
      "average =  0.0012164 for n = 12800\n"
     ]
    }
   ],
   "source": [
    "import time\n",
    "\n",
    "def timetrials(func, n, trials = 10):\n",
    "    totaltime = 0\n",
    "    L = list(range(n))\n",
    "    for i in range(trials):\n",
    "        start = time.time() \n",
    "        func(L)\n",
    "        time_for_one_run = time.time() - start\n",
    "        totaltime += time_for_one_run\n",
    "    print(\"average = %10.7f for n = %d\" % (totaltime/trials, n))\n",
    "\n",
    "def duplicates2(L):\n",
    "    n = len(L)\n",
    "    for i in range(1,n):\n",
    "        for j in range(i):\n",
    "            if L[i] == L[j]:\n",
    "                return True\n",
    "    return False\n",
    "\n",
    "for n in [800, 1600, 3200, 6400, 12800]:\n",
    "    timetrials(duplicates2, n)\n",
    "\n",
    "print()\n",
    "print('My Duplicate_search Running Time:')\n",
    "\n",
    "for n in [800, 1600, 3200, 6400, 12800]:\n",
    "    timetrials(duplicate_search, n)"
   ]
  }
 ],
 "metadata": {
  "kernelspec": {
   "display_name": "Python 3 (ipykernel)",
   "language": "python",
   "name": "python3"
  },
  "language_info": {
   "codemirror_mode": {
    "name": "ipython",
    "version": 3
   },
   "file_extension": ".py",
   "mimetype": "text/x-python",
   "name": "python",
   "nbconvert_exporter": "python",
   "pygments_lexer": "ipython3",
   "version": "3.11.5"
  }
 },
 "nbformat": 4,
 "nbformat_minor": 2
}
